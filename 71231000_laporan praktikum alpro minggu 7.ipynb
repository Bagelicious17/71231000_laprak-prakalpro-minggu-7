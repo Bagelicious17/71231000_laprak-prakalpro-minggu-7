{
 "cells": [
  {
   "cell_type": "code",
   "execution_count": 1,
   "id": "093e2cb4",
   "metadata": {},
   "outputs": [
    {
     "name": "stdout",
     "output_type": "stream",
     "text": [
      "masukkan kata pertama: atma\n",
      "masukkan kata kedua: taam\n",
      "anagram\n"
     ]
    }
   ],
   "source": [
    "p=str(input(\"masukkan kata pertama: \")).lower()\n",
    "q=str(input(\"masukkan kata kedua: \")).lower()\n",
    "x=False\n",
    "for i in p:\n",
    "    if i in q:\n",
    "        x=True\n",
    "    else:\n",
    "        x=False\n",
    "        break\n",
    "if x==True and len(p) == len(q):\n",
    "    print(\"anagram\")\n",
    "else:\n",
    "    print(\"bukan anagram\")"
   ]
  },
  {
   "cell_type": "code",
   "execution_count": 3,
   "id": "67e8718b",
   "metadata": {},
   "outputs": [
    {
     "name": "stdout",
     "output_type": "stream",
     "text": [
      "masukkan kalimat: Saya mau makan. Makan itu wajib. Mau siang atau malam saya wajib makan\n",
      "masukkan kata yang ingin di hitung: makan\n",
      "makan terdapat 3 buah\n"
     ]
    }
   ],
   "source": [
    "p=str(input(\"masukkan kalimat: \")).lower()\n",
    "q=str(input(\"masukkan kata yang ingin di hitung: \")).lower()\n",
    "x=p.count(q)\n",
    "print(f\"{q} terdapat {x} buah\")"
   ]
  },
  {
   "cell_type": "code",
   "execution_count": 4,
   "id": "24dedb24",
   "metadata": {},
   "outputs": [
    {
     "name": "stdout",
     "output_type": "stream",
     "text": [
      "masukkan kalimat: saya   tidak suka       memancing ikan       \n",
      "saya tidak suka memancing ikan \n"
     ]
    }
   ],
   "source": [
    "p=str(input(\"masukkan kalimat: \"))\n",
    "q=p.split()\n",
    "x=\"\"\n",
    "for i in q:\n",
    "    x+=i\n",
    "    x+=\" \"\n",
    "\n",
    "print(x)"
   ]
  },
  {
   "cell_type": "code",
   "execution_count": 5,
   "id": "c418becb",
   "metadata": {},
   "outputs": [
    {
     "name": "stdout",
     "output_type": "stream",
     "text": [
      "masukkan kalimat: red snakes and a black frog in the pool\n",
      "terpanjang: snakes\n",
      "terpendek: a\n"
     ]
    }
   ],
   "source": [
    "p=str(input(\"masukkan kalimat: \"))\n",
    "q=p.split()\n",
    "x=\"\"\n",
    "y=q[0]\n",
    "for i in q:\n",
    "    if len(i)>len(x):\n",
    "        x=i\n",
    "    elif len(i)<len(y):\n",
    "        y=i\n",
    "print(f\"terpanjang: {x}\")\n",
    "print(f\"terpendek: {y}\")"
   ]
  },
  {
   "cell_type": "code",
   "execution_count": null,
   "id": "fde3e6e1",
   "metadata": {},
   "outputs": [],
   "source": []
  }
 ],
 "metadata": {
  "kernelspec": {
   "display_name": "Python 3 (ipykernel)",
   "language": "python",
   "name": "python3"
  },
  "language_info": {
   "codemirror_mode": {
    "name": "ipython",
    "version": 3
   },
   "file_extension": ".py",
   "mimetype": "text/x-python",
   "name": "python",
   "nbconvert_exporter": "python",
   "pygments_lexer": "ipython3",
   "version": "3.11.5"
  }
 },
 "nbformat": 4,
 "nbformat_minor": 5
}
